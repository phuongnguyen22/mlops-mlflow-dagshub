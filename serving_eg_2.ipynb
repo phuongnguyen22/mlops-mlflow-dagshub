{
 "cells": [
  {
   "cell_type": "code",
   "execution_count": 1,
   "metadata": {},
   "outputs": [
    {
     "data": {
      "text/html": [
       "<pre style=\"white-space:pre;overflow-x:auto;line-height:normal;font-family:Menlo,'DejaVu Sans Mono',consolas,'Courier New',monospace\">Accessing as tquangbk\n",
       "</pre>\n"
      ],
      "text/plain": [
       "Accessing as tquangbk\n"
      ]
     },
     "metadata": {},
     "output_type": "display_data"
    },
    {
     "data": {
      "text/html": [
       "<pre style=\"white-space:pre;overflow-x:auto;line-height:normal;font-family:Menlo,'DejaVu Sans Mono',consolas,'Courier New',monospace\">Initialized MLflow to track repo <span style=\"color: #008000; text-decoration-color: #008000\">\"tquangbk/mlflow-master\"</span>\n",
       "</pre>\n"
      ],
      "text/plain": [
       "Initialized MLflow to track repo \u001b[32m\"tquangbk/mlflow-master\"\u001b[0m\n"
      ]
     },
     "metadata": {},
     "output_type": "display_data"
    },
    {
     "data": {
      "text/html": [
       "<pre style=\"white-space:pre;overflow-x:auto;line-height:normal;font-family:Menlo,'DejaVu Sans Mono',consolas,'Courier New',monospace\">Repository tquangbk/mlflow-master initialized!\n",
       "</pre>\n"
      ],
      "text/plain": [
       "Repository tquangbk/mlflow-master initialized!\n"
      ]
     },
     "metadata": {},
     "output_type": "display_data"
    }
   ],
   "source": [
    "import mlflow\n",
    "import dagshub\n",
    "dagshub.init(repo_owner='tquangbk', repo_name='mlflow-master', mlflow=True)\n",
    "mlflow.set_tracking_uri('https://dagshub.com/tquangbk/mlflow-master.mlflow')"
   ]
  },
  {
   "cell_type": "code",
   "execution_count": 3,
   "metadata": {},
   "outputs": [
    {
     "name": "stderr",
     "output_type": "stream",
     "text": [
      "2024/10/07 13:53:20 INFO mlflow.models.flavor_backend_registry: Selected backend for flavor 'python_function'\n",
      "2024/10/07 13:53:21 INFO mlflow.pyfunc.backend: Building docker image with name lr_model_2\n",
      "#1 [internal] load build definition from Dockerfile\n",
      "#1 transferring dockerfile: 2.57kB done\n",
      "#1 DONE 0.0s\n",
      "\n",
      "#2 [internal] load .dockerignore\n",
      "#2 transferring context: 2B done\n",
      "#2 DONE 0.0s\n",
      "\n",
      "#3 [internal] load metadata for docker.io/library/ubuntu:20.04\n",
      "#3 DONE 0.5s\n",
      "\n",
      "#4 [ 1/17] FROM docker.io/library/ubuntu:20.04@sha256:6d8d9799fe6ab3221965efac00b4c34a2bcc102c086a58dff9e19a08b913c7ef\n",
      "#4 DONE 0.0s\n",
      "\n",
      "#5 [internal] load build context\n",
      "#5 transferring context: 2.27kB done\n",
      "#5 DONE 0.0s\n",
      "\n",
      "#6 [ 9/17] RUN pip install mlflow==2.16.2\n",
      "#6 CACHED\n",
      "\n",
      "#7 [ 6/17] RUN pip install virtualenv\n",
      "#7 CACHED\n",
      "\n",
      "#8 [ 7/17] RUN apt-get install -y --no-install-recommends openjdk-11-jdk maven\n",
      "#8 CACHED\n",
      "\n",
      "#9 [10/17] RUN mvn --batch-mode dependency:copy -Dartifact=org.mlflow:mlflow-scoring:2.16.2:pom -DoutputDirectory=/opt/java\n",
      "#9 CACHED\n",
      "\n",
      "#10 [15/17] RUN python -c \"from mlflow.models import container as C; C._install_pyfunc_deps('/opt/ml/model', install_mlflow=False, enable_mlserver=False, env_manager='virtualenv');\"\n",
      "#10 CACHED\n",
      "\n",
      "#11 [13/17] RUN cd /opt/java && mvn --batch-mode dependency:copy-dependencies -DoutputDirectory=/opt/java/jars\n",
      "#11 CACHED\n",
      "\n",
      "#12 [ 5/17] RUN apt install -y python3.8 python3.8-distutils     && ln -s -f $(which python3.8) /usr/bin/python     && wget https://bootstrap.pypa.io/get-pip.py -O /tmp/get-pip.py     && python /tmp/get-pip.py\n",
      "#12 CACHED\n",
      "\n",
      "#13 [16/17] RUN chmod o+rwX /opt/mlflow/\n",
      "#13 CACHED\n",
      "\n",
      "#14 [ 3/17] RUN DEBIAN_FRONTEND=noninteractive TZ=Etc/UTC apt-get -y install tzdata     libssl-dev zlib1g-dev libbz2-dev libreadline-dev libsqlite3-dev wget curl llvm     libncursesw5-dev xz-utils tk-dev libxml2-dev libxmlsec1-dev libffi-dev liblzma-dev\n",
      "#14 CACHED\n",
      "\n",
      "#15 [14/17] COPY model_dir/ /opt/ml/model\n",
      "#15 CACHED\n",
      "\n",
      "#16 [ 8/17] WORKDIR /opt/mlflow\n",
      "#16 CACHED\n",
      "\n",
      "#17 [12/17] RUN cp /opt/java/mlflow-scoring-2.16.2.pom /opt/java/pom.xml\n",
      "#17 CACHED\n",
      "\n",
      "#18 [ 4/17] RUN git clone     --depth 1     --branch $(git ls-remote --tags --sort=v:refname https://github.com/pyenv/pyenv.git | grep -o -E 'v[1-9]+(\\.[1-9]+)+$' | tail -1)     https://github.com/pyenv/pyenv.git /root/.pyenv\n",
      "#18 CACHED\n",
      "\n",
      "#19 [11/17] RUN mvn --batch-mode dependency:copy -Dartifact=org.mlflow:mlflow-scoring:2.16.2:jar -DoutputDirectory=/opt/java/jars\n",
      "#19 CACHED\n",
      "\n",
      "#20 [ 2/17] RUN apt-get -y update && DEBIAN_FRONTEND=noninteractive TZ=Etc/UTC apt-get install -y --no-install-recommends wget curl nginx ca-certificates bzip2 build-essential cmake git-core\n",
      "#20 CACHED\n",
      "\n",
      "#21 [17/17] RUN rm -rf /var/lib/apt/lists/*\n",
      "#21 CACHED\n",
      "\n",
      "#22 exporting to image\n",
      "#22 exporting layers done\n",
      "#22 writing image sha256:dc70fea05198f18853efad2abcc9be0d224964a4916527b34efaf09baeaa07a1 done\n",
      "#22 naming to docker.io/library/lr_model_2 done\n",
      "#22 DONE 0.0s\n"
     ]
    }
   ],
   "source": [
    "# Build the Docker image using the registered model URI\n",
    "!mlflow models build-docker --name lr_model_2 --model-uri \"models:/best_lr/1\""
   ]
  },
  {
   "cell_type": "code",
   "execution_count": 4,
   "metadata": {},
   "outputs": [
    {
     "name": "stdout",
     "output_type": "stream",
     "text": [
      "^C\n"
     ]
    }
   ],
   "source": [
    "# not work\n",
    "# !mlflow models serve -m \"models:/best_lr/1\" -p 5000"
   ]
  },
  {
   "cell_type": "code",
   "execution_count": null,
   "metadata": {},
   "outputs": [],
   "source": []
  }
 ],
 "metadata": {
  "kernelspec": {
   "display_name": ".venv",
   "language": "python",
   "name": "python3"
  },
  "language_info": {
   "codemirror_mode": {
    "name": "ipython",
    "version": 3
   },
   "file_extension": ".py",
   "mimetype": "text/x-python",
   "name": "python",
   "nbconvert_exporter": "python",
   "pygments_lexer": "ipython3",
   "version": "3.10.0"
  }
 },
 "nbformat": 4,
 "nbformat_minor": 2
}
